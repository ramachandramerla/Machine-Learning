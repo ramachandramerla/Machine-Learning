{
 "cells": [
  {
   "cell_type": "markdown",
   "id": "1ede0982-81b7-4e14-abbd-774d4ea5357a",
   "metadata": {},
   "source": [
    "TensorFlow DeepLearning Tasks"
   ]
  },
  {
   "cell_type": "code",
   "execution_count": 1,
   "id": "edc76e13-0a19-4d54-ac47-ad2458113293",
   "metadata": {},
   "outputs": [],
   "source": [
    "#Download and import tensorflow\n",
    "#pip install tensorflow\n",
    "import tensorflow as tf"
   ]
  },
  {
   "cell_type": "code",
   "execution_count": 2,
   "id": "1fc4249f-2cdf-4d57-8e2c-bc5c94ea4655",
   "metadata": {},
   "outputs": [],
   "source": [
    "#pip install opencv-python"
   ]
  },
  {
   "cell_type": "code",
   "execution_count": 3,
   "id": "9e5ce3e5-1cad-41da-9039-9e0afa158ff3",
   "metadata": {},
   "outputs": [],
   "source": [
    "#Download the MIT library\n",
    "#!pip install mitdeeplearning"
   ]
  },
  {
   "cell_type": "code",
   "execution_count": 4,
   "id": "ad34177c-b9df-4038-878e-1f4eb05d8b5f",
   "metadata": {},
   "outputs": [],
   "source": [
    "import cv2\n",
    "import os\n",
    "import pandas as pd\n",
    "import numpy as np\n",
    "import matplotlib.pyplot as plt\n",
    "%matplotlib inline\n",
    "import mitdeeplearning as mdl"
   ]
  },
  {
   "cell_type": "markdown",
   "id": "39534159-bb2f-4c7e-a206-4f9d7fb8d08a",
   "metadata": {},
   "source": [
    "Create a 0-dimension\n",
    "tf.constant takes 2 arguments: 1 is constant value and 2nd is Datatype"
   ]
  },
  {
   "cell_type": "code",
   "execution_count": 5,
   "id": "4b87314a-c690-4d9b-ace4-29d994a73ae9",
   "metadata": {},
   "outputs": [
    {
     "name": "stdout",
     "output_type": "stream",
     "text": [
      "`sport` is a 0-d Tensor\n",
      "`number` is a 0-d Tensor\n"
     ]
    }
   ],
   "source": [
    "sport = tf.constant(\"Tennis\", tf.string)\n",
    "number = tf.constant(1.41421356237, tf.float64)\n",
    "\n",
    "print(\"`sport` is a {}-d Tensor\".format(tf.rank(sport).numpy()))\n",
    "print(\"`number` is a {}-d Tensor\".format(tf.rank(number).numpy()))"
   ]
  },
  {
   "cell_type": "markdown",
   "id": "4c0ff16f-2fca-4063-aeee-7a380e2ec898",
   "metadata": {},
   "source": [
    "Create a 1-dimension Tensors"
   ]
  },
  {
   "cell_type": "code",
   "execution_count": 6,
   "id": "c8ae1c14-6125-4a18-b2d0-50786a9ae9cc",
   "metadata": {},
   "outputs": [
    {
     "name": "stdout",
     "output_type": "stream",
     "text": [
      "'sports' is a 1-d Tensor\n",
      "'numbers' is a 1-d Tensor\n"
     ]
    }
   ],
   "source": [
    "sports = tf.constant([\"Tennis\", \"Cricket\"], tf.string)\n",
    "numbers = tf.constant([3.141592, 1.414213, 2.71821],tf.float64)\n",
    "print(\"'sports' is a {}-d Tensor\".format(tf.rank(sports).numpy()))\n",
    "print(\"'numbers' is a {}-d Tensor\".format(tf.rank(numbers).numpy()))"
   ]
  },
  {
   "cell_type": "markdown",
   "id": "5a81ff47-cd1b-4472-9524-f43aa4c36970",
   "metadata": {},
   "source": [
    "create a 2-Dimension Tensor"
   ]
  },
  {
   "cell_type": "code",
   "execution_count": 7,
   "id": "95575758-f1ae-4029-81ab-d40a363b9867",
   "metadata": {},
   "outputs": [
    {
     "name": "stdout",
     "output_type": "stream",
     "text": [
      "'matrix' is a 2-d Tensor\n"
     ]
    }
   ],
   "source": [
    "matrix = tf.constant([[\"tennis\", \"cricket\"],[\"bat\", \"ball\"]],tf.string)\n",
    "\n",
    "print(\"'matrix' is a {}-d Tensor\".format(tf.rank(matrix).numpy()))"
   ]
  },
  {
   "cell_type": "markdown",
   "id": "5f639dca-7279-4c7e-837c-0acc427fc254",
   "metadata": {},
   "source": [
    "Matrix should be a tensor Object and check whether matix is a 2D or not"
   ]
  },
  {
   "cell_type": "code",
   "execution_count": 8,
   "id": "cce0a82f-53de-4730-be45-247450a793d7",
   "metadata": {},
   "outputs": [],
   "source": [
    "assert isinstance(matrix, tf.Tensor), \"matrix must be a tf Tensor object\"\n",
    "assert tf.rank(matrix).numpy() == 2"
   ]
  },
  {
   "cell_type": "markdown",
   "id": "7dd6bc76-69b3-42c2-b4e4-f9291cab7742",
   "metadata": {},
   "source": [
    "using tf.zeros create a 4-D tensor and check using rank and numpy for 4D and convert the array to list and compare the samw"
   ]
  },
  {
   "cell_type": "code",
   "execution_count": 9,
   "id": "0e3c204f-af8e-4d92-b95a-3fa597c3cbeb",
   "metadata": {},
   "outputs": [],
   "source": [
    "images = tf.zeros([10,256,256,3])\n",
    "\n",
    "assert isinstance(images, tf.Tensor), \"matrix mush be a tf Tensor Object\"\n",
    "assert tf.rank(images).numpy() == 4, \"matrix must be of rank 4\"\n",
    "assert tf.shape(images).numpy().tolist() == [10,256,256,3], \"matrix is in incorrect Shape\"\n",
    "\n"
   ]
  },
  {
   "cell_type": "code",
   "execution_count": 10,
   "id": "24aad6ed-e179-4bf5-9fd7-1e0bdb893c02",
   "metadata": {},
   "outputs": [
    {
     "data": {
      "text/plain": [
       "<tf.Tensor: shape=(2, 2), dtype=string, numpy=\n",
       "array([[b'tennis', b'cricket'],\n",
       "       [b'bat', b'ball']], dtype=object)>"
      ]
     },
     "execution_count": 10,
     "metadata": {},
     "output_type": "execute_result"
    }
   ],
   "source": [
    "#check the 2D matrix created above\n",
    "matrix"
   ]
  },
  {
   "cell_type": "code",
   "execution_count": 11,
   "id": "680c2ae4-4332-436d-9932-f3945959bae9",
   "metadata": {},
   "outputs": [
    {
     "name": "stdout",
     "output_type": "stream",
     "text": [
      "`row_vector`: [b'bat' b'ball']\n",
      "`column_vector`: [b'cricket' b'ball']\n",
      "`scalar`: b'cricket'\n"
     ]
    }
   ],
   "source": [
    "row_vector = matrix[1]\n",
    "column_vector = matrix[:,1]\n",
    "scalar = matrix[0, 1]\n",
    "\n",
    "print(\"`row_vector`: {}\".format(row_vector.numpy()))\n",
    "print(\"`column_vector`: {}\".format(column_vector.numpy()))\n",
    "print(\"`scalar`: {}\".format(scalar.numpy()))"
   ]
  },
  {
   "cell_type": "markdown",
   "id": "4d9bf40d-4522-4b9e-8453-19ca71e2ba20",
   "metadata": {},
   "source": [
    "COMPUTATION"
   ]
  },
  {
   "cell_type": "code",
   "execution_count": 12,
   "id": "a363f914-c664-48d7-869d-619b82ce4d2e",
   "metadata": {},
   "outputs": [
    {
     "name": "stdout",
     "output_type": "stream",
     "text": [
      "tf.Tensor(76, shape=(), dtype=int32)\n",
      "tf.Tensor(76, shape=(), dtype=int32)\n"
     ]
    }
   ],
   "source": [
    "#create a node and assign the value\n",
    "a = tf.constant(15)\n",
    "b = tf.constant(61)\n",
    "c=tf.add(a,b)\n",
    "c1=a+b\n",
    "print(c)\n",
    "print(c1)"
   ]
  },
  {
   "cell_type": "code",
   "execution_count": 13,
   "id": "27d1779c-8077-47ae-bb12-58e8fce11af1",
   "metadata": {},
   "outputs": [
    {
     "name": "stdout",
     "output_type": "stream",
     "text": [
      "tf.Tensor(6.0, shape=(), dtype=float32)\n"
     ]
    }
   ],
   "source": [
    "#create a function and comute the result\n",
    "\n",
    "def func(a,b):\n",
    "    c=tf.add(a,b)\n",
    "    d=tf.subtract(b,1)\n",
    "    e=tf.multiply(c,d)\n",
    "    return e\n",
    "\n",
    "print(func(1.5,2.5))\n"
   ]
  },
  {
   "cell_type": "markdown",
   "id": "b737bbd3-b56a-4777-a0de-fe591d9af836",
   "metadata": {},
   "source": [
    "NEURAL NETWORKS"
   ]
  },
  {
   "cell_type": "code",
   "execution_count": 14,
   "id": "2ce9412e-5148-41a4-8aa9-7fc71c73513b",
   "metadata": {},
   "outputs": [
    {
     "name": "stdout",
     "output_type": "stream",
     "text": [
      "[[0.27064407 0.18269512 0.50374055]]\n",
      "[PASS] test_custom_dense_layer_output\n"
     ]
    },
    {
     "data": {
      "text/plain": [
       "True"
      ]
     },
     "execution_count": 14,
     "metadata": {},
     "output_type": "execute_result"
    }
   ],
   "source": [
    "#defining a network layer\n",
    "#creating Dense layers from scratch\n",
    "#n_output_nodes =  number of nodes\n",
    "#input_shape = shape of the input\n",
    "\n",
    "class myDenselayer(tf.keras.layers.Layer):\n",
    "    def __init__(self,n_output_nodes):\n",
    "        super(myDenselayer,self).__init__()\n",
    "        self.n_output_nodes = n_output_nodes\n",
    "\n",
    "    def build(self,input_shape):\n",
    "        d = int(input_shape[-1])\n",
    "        #define and initilize the parameter\n",
    "        #parameter initilized is random\n",
    "        self.W = self.add_weight(name=\"weight\",shape=[d,self.n_output_nodes]) #not the dimenstionality\n",
    "        self.b = self.add_weight(name=\"bias\",shape=[1,self.n_output_nodes]) #note the dimensionality\n",
    "    def call(self, x):\n",
    "        #forward propage the inputs\n",
    "        z = tf.matmul(x,self.W) + self.b\n",
    "        #feed through a non linear activiation\n",
    "        y = tf.math.sigmoid(z)\n",
    "        return y\n",
    "\n",
    "#since layer parameter are initilized from a random algorithum for the seed values \"1\" for reporoducibility\n",
    "tf.keras.utils.set_random_seed(1)\n",
    "layer = myDenselayer(3)\n",
    "layer.build((1,2))\n",
    "x_input = tf.constant([[1,2.]],shape=(1,2))\n",
    "y=layer.call(x_input)\n",
    "\n",
    "#test the output\n",
    "print(y.numpy())\n",
    "mdl.lab1.test_custom_dense_layer_output(y)\n"
   ]
  },
  {
   "cell_type": "code",
   "execution_count": 32,
   "id": "69142ed0-64e0-4554-a6a2-0f585bcb20a7",
   "metadata": {},
   "outputs": [],
   "source": [
    "#Defining a nural network using Sequential API\n",
    "#import the Sequential and Dense\n",
    "# Import relevant packages\n",
    "from tensorflow.keras import Sequential\n",
    "from tensorflow.keras.layers import Dense\n",
    "\n",
    "#define the number of outputs\n",
    "n_output_nodes = 3\n",
    "\n",
    "#first define the model\n",
    "model = Sequential()\n",
    "\n",
    "# Remember: dense layers are defined by the parameters W and b!\n",
    "\n",
    "model.add(Dense(n_output_nodes))\n"
   ]
  },
  {
   "cell_type": "code",
   "execution_count": 36,
   "id": "b6f76f15-2d83-46dc-9cff-9a62268814e9",
   "metadata": {},
   "outputs": [
    {
     "ename": "SyntaxError",
     "evalue": "invalid syntax (2896883352.py, line 5)",
     "output_type": "error",
     "traceback": [
      "\u001b[1;36m  Cell \u001b[1;32mIn[36], line 5\u001b[1;36m\u001b[0m\n\u001b[1;33m    model_output =\u001b[0m\n\u001b[1;37m                    ^\u001b[0m\n\u001b[1;31mSyntaxError\u001b[0m\u001b[1;31m:\u001b[0m invalid syntax\n"
     ]
    }
   ],
   "source": [
    "# Test model with example input\n",
    "x_input = tf.constant([[1,2.]], shape=(1,2))\n",
    "\n",
    "'''TODO: feed input into the model and predict the output!'''\n",
    "model_output =  \n",
    "print(model_output)"
   ]
  },
  {
   "cell_type": "code",
   "execution_count": null,
   "id": "f3e52d7d-da2b-4827-8aaa-0fe31db7f792",
   "metadata": {},
   "outputs": [],
   "source": []
  }
 ],
 "metadata": {
  "kernelspec": {
   "display_name": "Python 3 (ipykernel)",
   "language": "python",
   "name": "python3"
  },
  "language_info": {
   "codemirror_mode": {
    "name": "ipython",
    "version": 3
   },
   "file_extension": ".py",
   "mimetype": "text/x-python",
   "name": "python",
   "nbconvert_exporter": "python",
   "pygments_lexer": "ipython3",
   "version": "3.11.7"
  }
 },
 "nbformat": 4,
 "nbformat_minor": 5
}

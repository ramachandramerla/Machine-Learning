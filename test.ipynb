{
 "cells": [
  {
   "cell_type": "code",
   "execution_count": 3,
   "metadata": {},
   "outputs": [],
   "source": [
    "import numpy as np\n"
   ]
  },
  {
   "cell_type": "code",
   "execution_count": 4,
   "metadata": {},
   "outputs": [],
   "source": [
    "x_min=2\n",
    "x_max=3\n",
    "y_min=4\n",
    "y_max=5"
   ]
  },
  {
   "cell_type": "code",
   "execution_count": 5,
   "metadata": {},
   "outputs": [],
   "source": [
    "xx, yy = np.meshgrid(np.arange(x_min, x_max, 0.02),\n",
    "                     np.arange(y_min, y_max, 0.02))"
   ]
  },
  {
   "cell_type": "code",
   "execution_count": 6,
   "metadata": {},
   "outputs": [
    {
     "data": {
      "text/plain": [
       "array([[2.  , 2.02, 2.04, ..., 2.94, 2.96, 2.98],\n",
       "       [2.  , 2.02, 2.04, ..., 2.94, 2.96, 2.98],\n",
       "       [2.  , 2.02, 2.04, ..., 2.94, 2.96, 2.98],\n",
       "       ...,\n",
       "       [2.  , 2.02, 2.04, ..., 2.94, 2.96, 2.98],\n",
       "       [2.  , 2.02, 2.04, ..., 2.94, 2.96, 2.98],\n",
       "       [2.  , 2.02, 2.04, ..., 2.94, 2.96, 2.98]])"
      ]
     },
     "execution_count": 6,
     "metadata": {},
     "output_type": "execute_result"
    }
   ],
   "source": [
    "xx"
   ]
  },
  {
   "cell_type": "code",
   "execution_count": 7,
   "metadata": {},
   "outputs": [
    {
     "data": {
      "text/plain": [
       "array([[4.  , 4.  , 4.  , ..., 4.  , 4.  , 4.  ],\n",
       "       [4.02, 4.02, 4.02, ..., 4.02, 4.02, 4.02],\n",
       "       [4.04, 4.04, 4.04, ..., 4.04, 4.04, 4.04],\n",
       "       ...,\n",
       "       [4.94, 4.94, 4.94, ..., 4.94, 4.94, 4.94],\n",
       "       [4.96, 4.96, 4.96, ..., 4.96, 4.96, 4.96],\n",
       "       [4.98, 4.98, 4.98, ..., 4.98, 4.98, 4.98]])"
      ]
     },
     "execution_count": 7,
     "metadata": {},
     "output_type": "execute_result"
    }
   ],
   "source": [
    "yy"
   ]
  },
  {
   "cell_type": "code",
   "execution_count": null,
   "metadata": {},
   "outputs": [],
   "source": []
  }
 ],
 "metadata": {
  "kernelspec": {
   "display_name": "base",
   "language": "python",
   "name": "python3"
  },
  "language_info": {
   "codemirror_mode": {
    "name": "ipython",
    "version": 3
   },
   "file_extension": ".py",
   "mimetype": "text/x-python",
   "name": "python",
   "nbconvert_exporter": "python",
   "pygments_lexer": "ipython3",
   "version": "3.11.7"
  }
 },
 "nbformat": 4,
 "nbformat_minor": 2
}
